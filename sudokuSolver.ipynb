{
  "nbformat": 4,
  "nbformat_minor": 0,
  "metadata": {
    "colab": {
      "name": "sudokuSolver.ipynb",
      "provenance": [],
      "authorship_tag": "ABX9TyOxSIxZElM1B8/HMTom2Ucf",
      "include_colab_link": true
    },
    "kernelspec": {
      "name": "python3",
      "display_name": "Python 3"
    },
    "language_info": {
      "name": "python"
    }
  },
  "cells": [
    {
      "cell_type": "markdown",
      "metadata": {
        "id": "view-in-github",
        "colab_type": "text"
      },
      "source": [
        "<a href=\"https://colab.research.google.com/github/pedropxoto/Python-Projects/blob/main/sudokuSolver.ipynb\" target=\"_parent\"><img src=\"https://colab.research.google.com/assets/colab-badge.svg\" alt=\"Open In Colab\"/></a>"
      ]
    },
    {
      "cell_type": "code",
      "execution_count": null,
      "metadata": {
        "colab": {
          "base_uri": "https://localhost:8080/",
          "height": 383
        },
        "id": "IqHbsSGjr5bi",
        "outputId": "1c253296-f876-41a1-8d5a-095ea60e1772"
      },
      "outputs": [
        {
          "output_type": "stream",
          "name": "stdout",
          "text": [
            "0 0 5 3 0 0 0 0 0 \n",
            "8 0 0 0 0 0 0 2 0 \n",
            "0 7 0 0 1 0 5 0 0 \n",
            "4 0 0 0 0 5 3 0 0 \n",
            "0 1 0 0 7 0 0 0 6 \n",
            "0 0 3 2 0 0 0 8 0 \n",
            "0 6 0 5 0 0 0 0 9 \n",
            "0 0 4 0 0 0 0 3 0 \n",
            "0 0 0 0 0 9 7 0 0 \n",
            "\n",
            "1 4 5 3 2 7 6 9 8 \n",
            "8 3 9 6 5 4 1 2 7 \n",
            "6 7 2 9 1 8 5 4 3 \n",
            "4 9 6 1 8 5 3 7 2 \n",
            "2 1 8 4 7 3 9 5 6 \n",
            "7 5 3 2 9 6 4 8 1 \n",
            "3 6 7 5 4 2 8 1 9 \n",
            "9 8 4 7 6 1 2 3 5 \n",
            "5 2 1 8 3 9 7 6 4 \n",
            "\n"
          ]
        },
        {
          "output_type": "execute_result",
          "data": {
            "application/vnd.google.colaboratory.intrinsic+json": {
              "type": "string"
            },
            "text/plain": [
              "'\\nsud.get_Sudoku()\\n'"
            ]
          },
          "metadata": {},
          "execution_count": 4
        }
      ],
      "source": [
        "import numpy as np\n",
        "\n",
        "class Sudoku:\n",
        "  def __init__(self):\n",
        "    self.matrix = [[0, 0, 5, 3, 0, 0, 0, 0, 0],\n",
        "                   [8, 0, 0, 0, 0, 0, 0, 2, 0], \n",
        "                   [0, 7, 0, 0, 1, 0, 5, 0, 0], \n",
        "                   [4, 0, 0, 0, 0, 5, 3, 0, 0], \n",
        "                   [0, 1, 0, 0, 7, 0, 0, 0, 6], \n",
        "                   [0, 0, 3, 2, 0, 0, 0, 8, 0], \n",
        "                   [0, 6, 0, 5, 0, 0, 0, 0, 9], \n",
        "                   [0, 0, 4, 0, 0, 0, 0, 3, 0], \n",
        "                   [0, 0, 0, 0, 0, 9, 7, 0, 0]]\n",
        "\n",
        "\n",
        "  def build_sudoku(self):\n",
        "    self.matrix = [[0 for i in range(9)]for j in range(9)]\n",
        "    matrix = []\n",
        "    for i in range(9):\n",
        "      aux = input(\"Digite a linha: \").split()\n",
        "      matrix.append(aux)\n",
        "  \n",
        "  def get_Sudoku(self):\n",
        "    for i in range(9):\n",
        "      for j in range(9):\n",
        "        print(self.matrix[i][j],end=' ')\n",
        "      print()\n",
        "  \n",
        "  def possible(self,row,column,number):\n",
        "    for i in range(9):\n",
        "      if self.matrix[i][column] == number:\n",
        "        return False \n",
        "      \n",
        "    for i in range(9):\n",
        "      if self.matrix[row][i] == number:\n",
        "        return False\n",
        "\n",
        "    x0 = (row//3)*3\n",
        "    y0 = (column//3)*3\n",
        "\n",
        "    for i in range(3):\n",
        "      for j in range(3):\n",
        "        if self.matrix[x0+i][y0+j] == number:\n",
        "          return False\n",
        "    \n",
        "    return True\n",
        "  \n",
        "\n",
        "  def solve(self):\n",
        "    for i in range(9):\n",
        "      for j in range(9):\n",
        "         \n",
        "        if self.matrix[i][j] == 0:\n",
        "          for k in range(1,10):  \n",
        "            if self.possible(i,j,k):\n",
        "              \n",
        "              self.matrix[i][j] = k\n",
        "              aux = self.solve()\n",
        "              self.matrix[i][j] = 0\n",
        "          return\n",
        "    print()\n",
        "    self.get_Sudoku()\n",
        "\n",
        "\n",
        "    return True\n",
        "'''\n",
        " \n",
        "  def solve(self):\n",
        "    aux = False \n",
        "    for i in range(9):\n",
        "      for j in range(9):\n",
        "        if self.matrix[i][j] == 0:\n",
        "          for k in range(1,10):\n",
        "             \n",
        "            if self.possible(i,j,k):\n",
        "              self.matrix[i][j] = k\n",
        "              aux = self.solve()\n",
        "          if not(aux):\n",
        "            self.matrix[i][j] = 0\n",
        "            return False\n",
        "\n",
        "    return True\n",
        "'''\n",
        "\n",
        "sud = Sudoku()\n",
        "sud.get_Sudoku()\n",
        "sud.solve()\n",
        "print()\n",
        "'''\n",
        "sud.get_Sudoku()\n",
        "'''"
      ]
    }
  ]
}