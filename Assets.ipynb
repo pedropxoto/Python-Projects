{
  "nbformat": 4,
  "nbformat_minor": 0,
  "metadata": {
    "colab": {
      "name": "Assets.ipynb",
      "provenance": [],
      "authorship_tag": "ABX9TyN6DW4afzuy89EyMgYRcqw2",
      "include_colab_link": true
    },
    "kernelspec": {
      "name": "python3",
      "display_name": "Python 3"
    },
    "language_info": {
      "name": "python"
    }
  },
  "cells": [
    {
      "cell_type": "markdown",
      "metadata": {
        "id": "view-in-github",
        "colab_type": "text"
      },
      "source": [
        "<a href=\"https://colab.research.google.com/github/pedropxoto/Python-Projects/blob/main/Assets.ipynb\" target=\"_parent\"><img src=\"https://colab.research.google.com/assets/colab-badge.svg\" alt=\"Open In Colab\"/></a>"
      ]
    },
    {
      "cell_type": "code",
      "execution_count": 5,
      "metadata": {
        "id": "IqHbsSGjr5bi"
      },
      "outputs": [],
      "source": [
        "class Assets:\n",
        "  def __init__(self,name):\n",
        "    self.name = name\n",
        "    \n",
        "  def getName(self):\n",
        "    return self.name\n",
        "\n",
        "class Portfolio:\n",
        "  def __init__(self,name):\n",
        "    self.name = name\n",
        "    self.assets = {}\n",
        "\n",
        "  def newBuy(self,asset,newprice,newquantity):\n",
        "    name = asset.getName()\n",
        "    if name in self.assets:\n",
        "      self.assets[name][0] = (self.assets[name][0] * self.assets[name][1] + newprice * newquantity) / (self.assets[name][1] + newquantity)\n",
        "      self.assets[name][1] = self.assets[name][1] + newquantity\n",
        "    else:\n",
        "      self.assets[name] = [newprice,newquantity]\n",
        "  \n",
        "  def newSell(self,asset,sellquantity):\n",
        "    name = asset.getName()\n",
        "    if name in self.assets:\n",
        "      if self.assets[name][1] < sellquantity:\n",
        "        raise Exception(\"QUANTIDADE VENDIDA EXCEDE O NÚMERO DE ATIVOS, EFETUE A VENDA NOVAMENTE\")\n",
        "      else:\n",
        "        self.asset[name][1] = self.asset[name][1] - sellquantity\n",
        "        if self.asset[name][1] == 0:\n",
        "          self.asset.pop(name)\n",
        "    else:\n",
        "      raise Exception(\"ESTE PORTIFÓLIO NÃO CONTÉM ESTE ATIVO\")\n",
        "    \n",
        "  def getCurrentSituation(self,asset,newprice):\n",
        "    name = asset.getName()\n",
        "    delta = self.assets[name][1]*self.assets[name][0] - newprice*self.assets[name][1]\n",
        "    print(\"Foram comprados\",self.assets[name][1],\"ativos do\",name,\", com preço médio equivalente a R$\",self.assets[name][0],', e um valor total de R$',self.assets[name][0]*self.assets[name][1])\n",
        "    print(\"Comparando com o preço atual do ativo, você opera em:\")\n",
        "    print()\n",
        "    if delta > 0:\n",
        "      print('PERDA')\n",
        "      print(\"{:.2%}\".format(-1*(delta/(self.assets[name][0]*self.assets[name][1]))))\n",
        "      print('R$-{}'.format(delta))\n",
        "    elif delta < 0:\n",
        "      print('GANHO')\n",
        "      print('{:.2%}'.format(-1*(delta/(self.assets[name][0]*self.assets[name][1]))))\n",
        "      print(\"R${}\".format(delta))\n",
        "    else:\n",
        "      print(\"Equal Situation\")\n",
        "    \n",
        "  def getPortifolio(self):\n",
        "    print('Portifolio de',self.name)\n",
        "    for i in self.assets.keys():\n",
        "      print('Ativo:',i,' Custo:',self.assets[i][0],' Quantidade:',self.assets[i][1])\n",
        "    print()\n",
        "  \n",
        "  def setAsset(self,asset,newprice,newquantity):\n",
        "    self.assets[asset.getName()] = [newprice,newquantity]\n",
        "  \n"
      ]
    },
    {
      "cell_type": "code",
      "source": [
        "Pedro = Portfolio('Pedro')\n",
        "Carlos = Portfolio('Carlos')\n",
        "\n",
        "petrobras = Assets('PETR4')\n",
        "engie = Assets('ENGI11')\n",
        "banco_do_brasil = Assets('BBAS3')\n",
        "magalu = Assets('MGLU3')\n",
        "\n",
        "Pedro.newBuy(petrobras,23.54,30)\n",
        "Carlos.newBuy(petrobras,22.31,45)\n",
        "Pedro.newBuy(banco_do_brasil,29.48,20)\n",
        "Carlos.newBuy(engie,41.73,10)\n",
        "Pedro.newBuy(magalu,21.73,40)\n",
        "\n",
        "Pedro.getPortifolio()\n",
        "Carlos.getPortifolio()\n",
        "\n",
        "Pedro.getCurrentSituation(magalu, 6.09)"
      ],
      "metadata": {
        "colab": {
          "base_uri": "https://localhost:8080/",
          "height": 495
        },
        "id": "rqETM2lWwXf3",
        "outputId": "1e6c3439-16c2-4c3e-943f-51b71b089b13"
      },
      "execution_count": 7,
      "outputs": [
        {
          "output_type": "stream",
          "name": "stdout",
          "text": [
            "Portifolio de Pedro\n",
            "Ativo: PETR4  Custo: 23.54  Quantidade: 30\n",
            "Ativo: BBAS3  Custo: 29.48  Quantidade: 20\n",
            "Ativo: MGLU3  Custo: 21.73  Quantidade: 40\n",
            "\n",
            "Portifolio de Carlos\n",
            "Ativo: PETR4  Custo: 22.31  Quantidade: 45\n",
            "Ativo: ENGI11  Custo: 41.73  Quantidade: 10\n",
            "\n",
            "Foram comprados 40 ativos do MGLU3 , com preço médio equivalente a R$ 21.73 , e um valor total de R$ 869.2\n",
            "Comparando com o preço atual do ativo, você opera em:\n",
            "\n",
            "PERDA\n",
            "-71.97%\n",
            "R$-625.6\n"
          ]
        },
        {
          "output_type": "error",
          "ename": "NameError",
          "evalue": "ignored",
          "traceback": [
            "\u001b[0;31m---------------------------------------------------------------------------\u001b[0m",
            "\u001b[0;31mNameError\u001b[0m                                 Traceback (most recent call last)",
            "\u001b[0;32m<ipython-input-7-cef2c8deee8c>\u001b[0m in \u001b[0;36m<module>\u001b[0;34m()\u001b[0m\n\u001b[1;32m     18\u001b[0m \u001b[0mPedro\u001b[0m\u001b[0;34m.\u001b[0m\u001b[0mgetCurrentSituation\u001b[0m\u001b[0;34m(\u001b[0m\u001b[0mmagalu\u001b[0m\u001b[0;34m,\u001b[0m \u001b[0;36m6.09\u001b[0m\u001b[0;34m)\u001b[0m\u001b[0;34m\u001b[0m\u001b[0;34m\u001b[0m\u001b[0m\n\u001b[1;32m     19\u001b[0m \u001b[0;34m\u001b[0m\u001b[0m\n\u001b[0;32m---> 20\u001b[0;31m \u001b[0mprint\u001b[0m\u001b[0;34m(\u001b[0m\u001b[0mpetr4\u001b[0m\u001b[0;34m.\u001b[0m\u001b[0mgetCost\u001b[0m\u001b[0;34m(\u001b[0m\u001b[0;34m)\u001b[0m\u001b[0;34m)\u001b[0m\u001b[0;34m\u001b[0m\u001b[0;34m\u001b[0m\u001b[0m\n\u001b[0m\u001b[1;32m     21\u001b[0m \u001b[0mprint\u001b[0m\u001b[0;34m(\u001b[0m\u001b[0mpetr4\u001b[0m\u001b[0;34m.\u001b[0m\u001b[0mgetName\u001b[0m\u001b[0;34m(\u001b[0m\u001b[0;34m)\u001b[0m\u001b[0;34m)\u001b[0m\u001b[0;34m\u001b[0m\u001b[0;34m\u001b[0m\u001b[0m\n\u001b[1;32m     22\u001b[0m \u001b[0mpetr4\u001b[0m\u001b[0;34m.\u001b[0m\u001b[0mnewBuy\u001b[0m\u001b[0;34m(\u001b[0m\u001b[0;36m22.35\u001b[0m\u001b[0;34m,\u001b[0m\u001b[0;36m53\u001b[0m\u001b[0;34m)\u001b[0m\u001b[0;34m\u001b[0m\u001b[0;34m\u001b[0m\u001b[0m\n",
            "\u001b[0;31mNameError\u001b[0m: name 'petr4' is not defined"
          ]
        }
      ]
    }
  ]
}